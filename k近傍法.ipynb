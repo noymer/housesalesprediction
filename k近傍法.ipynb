{
 "cells": [
  {
   "cell_type": "code",
   "execution_count": 14,
   "metadata": {},
   "outputs": [],
   "source": [
    "#グラフをnotebook内に描画させるための設定\n",
    "%matplotlib inline \n",
    "\n",
    "import pandas as pd\n",
    "import numpy as np\n",
    "import matplotlib.pyplot as plt\n",
    "from sklearn.model_selection import KFold\n",
    "from sklearn.model_selection import ParameterGrid\n",
    "from sklearn.neighbors import KNeighborsRegressor\n",
    "from sklearn.metrics import mean_squared_error, mean_absolute_error\n",
    "\n",
    "# pandasでの表示列を増やす\n",
    "# see: http://uyamazak.hatenablog.com/entry/2016/09/29/163534\n",
    "pd.set_option(\"display.max_column\", 101)"
   ]
  },
  {
   "cell_type": "code",
   "execution_count": 2,
   "metadata": {},
   "outputs": [],
   "source": [
    "df_data = pd.read_csv(\"./kc_house_data.csv\", parse_dates=['date'])"
   ]
  },
  {
   "cell_type": "code",
   "execution_count": 38,
   "metadata": {
    "scrolled": true
   },
   "outputs": [],
   "source": [
    "kf = KFold(n_splits=5, random_state=1234, shuffle=True)\n",
    "\n",
    "parameters = {\n",
    "    'scale_sqft_living': [0.01, 0.1,  1, 10, 100],\n",
    "    'scale_grade': [0.01, 0.1, 1, 10, 100],\n",
    "    'n_neighbors': [1, 2, 3, 4, 5],\n",
    "}\n",
    "\n",
    "results = []\n",
    "for param in ParameterGrid(parameters):\n",
    "    scale = [param['scale_sqft_living'], param['scale_grade'], 1, 1]\n",
    "    n_neighbors = param['n_neighbors']\n",
    "    \n",
    "    maes = []\n",
    "    rmses = []\n",
    "    for i,(train_index, test_index) in enumerate(kf.split(df_data)):\n",
    "        X = df_data[['sqft_living', 'grade', 'lat', 'long']].values * scale\n",
    "        y = df_data['price'].values\n",
    "        X_train, X_test = X[train_index], X[test_index]\n",
    "        y_train, y_test = y[train_index], y[test_index]\n",
    "        neigh = KNeighborsRegressor(n_neighbors=n_neighbors, n_jobs=-1)\n",
    "        neigh.fit(X_train, y_train) \n",
    "        y_pred = neigh.predict(X_test)\n",
    "        mse = mean_squared_error(y_test, y_pred)\n",
    "        mae = mean_absolute_error(y_test, y_pred)\n",
    "        rmse = np.sqrt(mse)\n",
    "        \n",
    "        maes.append(mae)\n",
    "        rmses.append(rmse)\n",
    "    \n",
    "    # print(param)\n",
    "    # print(\"MSE=%s\"%round(mse,3) )\n",
    "    # print(\"RMSE={0}\".format(round(np.mean(rmses), 3) ))\n",
    "    # print(\"MAE={0}\".format(round(np.mean(maes),3) ))\n",
    "    results.append((param, np.mean(rmses), np.mean(maes)))"
   ]
  },
  {
   "cell_type": "code",
   "execution_count": 42,
   "metadata": {},
   "outputs": [],
   "source": [
    "def KNeighborSearch(parameters):\n",
    "    results = []\n",
    "    for param in ParameterGrid(parameters):\n",
    "        scale = [param['scale_sqft_living'], param['scale_grade'], 1, 1]\n",
    "        n_neighbors = param['n_neighbors']\n",
    "\n",
    "        maes = []\n",
    "        rmses = []\n",
    "        for i,(train_index, test_index) in enumerate(kf.split(df_data)):\n",
    "            X = df_data[['sqft_living', 'grade', 'lat', 'long']].values * scale\n",
    "            y = df_data['price'].values\n",
    "            X_train, X_test = X[train_index], X[test_index]\n",
    "            y_train, y_test = y[train_index], y[test_index]\n",
    "            neigh = KNeighborsRegressor(n_neighbors=n_neighbors, n_jobs=-1)\n",
    "            neigh.fit(X_train, y_train) \n",
    "            y_pred = neigh.predict(X_test)\n",
    "            mse = mean_squared_error(y_test, y_pred)\n",
    "            mae = mean_absolute_error(y_test, y_pred)\n",
    "            rmse = np.sqrt(mse)\n",
    "\n",
    "            maes.append(mae)\n",
    "            rmses.append(rmse)\n",
    "\n",
    "        # print(param)\n",
    "        # print(\"MSE=%s\"%round(mse,3) )\n",
    "        # print(\"RMSE={0}\".format(round(np.mean(rmses), 3) ))\n",
    "        # print(\"MAE={0}\".format(round(np.mean(maes),3) ))\n",
    "        results.append((param, np.mean(rmses), np.mean(maes)))\n",
    "        \n",
    "    sortedResults = sorted(results, key=lambda result: result[2])\n",
    "    display(sortedResults[:5])"
   ]
  },
  {
   "cell_type": "code",
   "execution_count": 62,
   "metadata": {},
   "outputs": [],
   "source": [
    "def KNeighborSearch2(parameters):\n",
    "    results = []\n",
    "    for param in ParameterGrid(parameters):\n",
    "        scale = [param['scale_sqft_living'], param['scale_grade'], param['scale_yr_built'], 1, 1]\n",
    "        n_neighbors = param['n_neighbors']\n",
    "\n",
    "        maes = []\n",
    "        rmses = []\n",
    "        for i,(train_index, test_index) in enumerate(kf.split(df_data)):\n",
    "            X = df_data[['sqft_living', 'grade', 'yr_built', 'lat', 'long']].values * scale\n",
    "            y = df_data['price'].values\n",
    "            X_train, X_test = X[train_index], X[test_index]\n",
    "            y_train, y_test = y[train_index], y[test_index]\n",
    "            neigh = KNeighborsRegressor(n_neighbors=n_neighbors, n_jobs=-1, weights=param['weights'], metric=param['metric'])\n",
    "            neigh.fit(X_train, y_train) \n",
    "            y_pred = neigh.predict(X_test)\n",
    "            mse = mean_squared_error(y_test, y_pred)\n",
    "            mae = mean_absolute_error(y_test, y_pred)\n",
    "            rmse = np.sqrt(mse)\n",
    "\n",
    "            maes.append(mae)\n",
    "            rmses.append(rmse)\n",
    "\n",
    "        # print(param)\n",
    "        # print(\"MSE=%s\"%round(mse,3) )\n",
    "        # print(\"RMSE={0}\".format(round(np.mean(rmses), 3) ))\n",
    "        # print(\"MAE={0}\".format(round(np.mean(maes),3) ))\n",
    "        results.append((param, np.mean(rmses), np.mean(maes)))\n",
    "        \n",
    "    sortedResults = sorted(results, key=lambda result: result[2])\n",
    "    display(sortedResults[:5])"
   ]
  },
  {
   "cell_type": "code",
   "execution_count": 43,
   "metadata": {},
   "outputs": [
    {
     "data": {
      "text/plain": [
       "[({'n_neighbors': 5, 'scale_grade': 0.01, 'scale_sqft_living': 0.01},\n",
       "  208084.7411852095,\n",
       "  115113.44632286459),\n",
       " ({'n_neighbors': 5, 'scale_grade': 1, 'scale_sqft_living': 0.01},\n",
       "  207461.0481224746,\n",
       "  115185.52221889887),\n",
       " ({'n_neighbors': 5, 'scale_grade': 100, 'scale_sqft_living': 0.01},\n",
       "  209992.9261807139,\n",
       "  115521.02982876156),\n",
       " ({'n_neighbors': 3, 'scale_grade': 0.01, 'scale_sqft_living': 0.01},\n",
       "  214082.89396131318,\n",
       "  117658.7646577934),\n",
       " ({'n_neighbors': 3, 'scale_grade': 1, 'scale_sqft_living': 0.01},\n",
       "  215050.9592366287,\n",
       "  117978.90204602088)]"
      ]
     },
     "metadata": {},
     "output_type": "display_data"
    }
   ],
   "source": [
    "parameters = {\n",
    "    'scale_sqft_living': [0.01,  1, 100],\n",
    "    'scale_grade': [0.01, 1, 100],\n",
    "    'n_neighbors': [1, 3, 5],\n",
    "}\n",
    "\n",
    "KNeighborSearch(parameters)"
   ]
  },
  {
   "cell_type": "code",
   "execution_count": 44,
   "metadata": {},
   "outputs": [
    {
     "data": {
      "text/plain": [
       "[({'n_neighbors': 10, 'scale_grade': 100, 'scale_sqft_living': 0.0001},\n",
       "  157395.64252247976,\n",
       "  81201.83609207255),\n",
       " ({'n_neighbors': 10, 'scale_grade': 10000, 'scale_sqft_living': 0.0001},\n",
       "  157395.64252247976,\n",
       "  81201.83609207255),\n",
       " ({'n_neighbors': 10, 'scale_grade': 1, 'scale_sqft_living': 0.0001},\n",
       "  157395.28556997684,\n",
       "  81204.9527135123),\n",
       " ({'n_neighbors': 7, 'scale_grade': 1, 'scale_sqft_living': 0.0001},\n",
       "  157227.8516688523,\n",
       "  81618.26846369792),\n",
       " ({'n_neighbors': 7, 'scale_grade': 100, 'scale_sqft_living': 0.0001},\n",
       "  157231.33208044223,\n",
       "  81623.53202215077)]"
      ]
     },
     "metadata": {},
     "output_type": "display_data"
    }
   ],
   "source": [
    "parameters = {\n",
    "    'scale_sqft_living': [0.0001, 0.01,  1],\n",
    "    'scale_grade': [0.0001, 0.01, 1, 100, 10000],\n",
    "    'n_neighbors': [3, 5, 7, 10, 15],\n",
    "}\n",
    "\n",
    "KNeighborSearch(parameters)"
   ]
  },
  {
   "cell_type": "code",
   "execution_count": 54,
   "metadata": {},
   "outputs": [
    {
     "data": {
      "text/plain": [
       "[({'n_neighbors': 15,\n",
       "   'scale_grade': 0.02,\n",
       "   'scale_sqft_living': 4e-05,\n",
       "   'scale_yr_built': 0},\n",
       "  149384.57213736034,\n",
       "  77334.32921984862),\n",
       " ({'n_neighbors': 15,\n",
       "   'scale_grade': 0.02,\n",
       "   'scale_sqft_living': 3e-05,\n",
       "   'scale_yr_built': 0},\n",
       "  150461.62205734823,\n",
       "  77347.92962202859),\n",
       " ({'n_neighbors': 11,\n",
       "   'scale_grade': 0.02,\n",
       "   'scale_sqft_living': 4e-05,\n",
       "   'scale_yr_built': 0},\n",
       "  148226.56274713724,\n",
       "  77486.11715681315),\n",
       " ({'n_neighbors': 10,\n",
       "   'scale_grade': 0.02,\n",
       "   'scale_sqft_living': 3e-05,\n",
       "   'scale_yr_built': 0},\n",
       "  148777.7405383382,\n",
       "  77499.54748980064),\n",
       " ({'n_neighbors': 12,\n",
       "   'scale_grade': 0.02,\n",
       "   'scale_sqft_living': 3e-05,\n",
       "   'scale_yr_built': 0},\n",
       "  149488.95869312176,\n",
       "  77525.42608553005)]"
      ]
     },
     "metadata": {},
     "output_type": "display_data"
    }
   ],
   "source": [
    "parameters = {\n",
    "    'scale_sqft_living': [0, 1e-5, 2e-5, 3e-5, 4e-5, 5e-5, 6e-5, 7e-5, 8e-5, 9e-5, 10e-5],\n",
    "    'scale_grade': [0, 0.001, 0.01, 0.02, 0.03, 0.04, 0.05, 0.06, 0.07, 0.09, 0.1, 1],\n",
    "    'scale_yr_built': [0],\n",
    "    'n_neighbors': [ 5, 7, 8, 9, 10, 11, 12, 15],\n",
    "}\n",
    "\n",
    "KNeighborSearch2(parameters)"
   ]
  },
  {
   "cell_type": "code",
   "execution_count": 60,
   "metadata": {},
   "outputs": [
    {
     "data": {
      "text/plain": [
       "[({'n_neighbors': 15,\n",
       "   'scale_grade': 0.02,\n",
       "   'scale_sqft_living': 3e-05,\n",
       "   'scale_yr_built': 0,\n",
       "   'weights': 'distance'},\n",
       "  147324.99534741713,\n",
       "  75424.4180346212),\n",
       " ({'n_neighbors': 15,\n",
       "   'scale_grade': 0.019,\n",
       "   'scale_sqft_living': 2.9e-05,\n",
       "   'scale_yr_built': 0,\n",
       "   'weights': 'distance'},\n",
       "  147463.3060266763,\n",
       "  75456.91355847134),\n",
       " ({'n_neighbors': 15,\n",
       "   'scale_grade': 0.017,\n",
       "   'scale_sqft_living': 3e-05,\n",
       "   'scale_yr_built': 0,\n",
       "   'weights': 'distance'},\n",
       "  147676.8653392876,\n",
       "  75471.58697201152),\n",
       " ({'n_neighbors': 15,\n",
       "   'scale_grade': 0.017,\n",
       "   'scale_sqft_living': 2.9e-05,\n",
       "   'scale_yr_built': 0,\n",
       "   'weights': 'distance'},\n",
       "  147628.84324046047,\n",
       "  75491.90948397666),\n",
       " ({'n_neighbors': 15,\n",
       "   'scale_grade': 0.02,\n",
       "   'scale_sqft_living': 2.9e-05,\n",
       "   'scale_yr_built': 0,\n",
       "   'weights': 'distance'},\n",
       "  147420.38960493467,\n",
       "  75497.7769431003)]"
      ]
     },
     "metadata": {},
     "output_type": "display_data"
    }
   ],
   "source": [
    "parameters = {\n",
    "    'scale_sqft_living': [2.7e-5, 2.9e-5, 3e-5, 3.3e-5, 3.5e-5, 3.7e-5, 4e-5],\n",
    "    'scale_grade': [0.015, 0.017, 0.019, 0.02, 0.025],\n",
    "    'scale_yr_built': [0],\n",
    "    'n_neighbors': [13, 15, 17, 20],\n",
    "    'weights': ['uniform', 'distance'],\n",
    "}\n",
    "\n",
    "KNeighborSearch2(parameters)"
   ]
  },
  {
   "cell_type": "code",
   "execution_count": 63,
   "metadata": {},
   "outputs": [
    {
     "data": {
      "text/plain": [
       "[({'metric': 'manhattan',\n",
       "   'n_neighbors': 15,\n",
       "   'scale_grade': 0.015,\n",
       "   'scale_sqft_living': 2.9e-05,\n",
       "   'scale_yr_built': 0,\n",
       "   'weights': 'distance'},\n",
       "  146869.81822159316,\n",
       "  74582.78164572045),\n",
       " ({'metric': 'manhattan',\n",
       "   'n_neighbors': 15,\n",
       "   'scale_grade': 0.015,\n",
       "   'scale_sqft_living': 2.95e-05,\n",
       "   'scale_yr_built': 0,\n",
       "   'weights': 'distance'},\n",
       "  146846.62380358874,\n",
       "  74592.44597261655),\n",
       " ({'metric': 'manhattan',\n",
       "   'n_neighbors': 17,\n",
       "   'scale_grade': 0.015,\n",
       "   'scale_sqft_living': 2.95e-05,\n",
       "   'scale_yr_built': 0,\n",
       "   'weights': 'distance'},\n",
       "  147682.28825085756,\n",
       "  74596.15004771718),\n",
       " ({'metric': 'manhattan',\n",
       "   'n_neighbors': 17,\n",
       "   'scale_grade': 0.015,\n",
       "   'scale_sqft_living': 2.9e-05,\n",
       "   'scale_yr_built': 0,\n",
       "   'weights': 'distance'},\n",
       "  147811.7443840655,\n",
       "  74596.84956020981),\n",
       " ({'metric': 'manhattan',\n",
       "   'n_neighbors': 17,\n",
       "   'scale_grade': 0.015,\n",
       "   'scale_sqft_living': 2.8e-05,\n",
       "   'scale_yr_built': 0,\n",
       "   'weights': 'distance'},\n",
       "  148098.94463854175,\n",
       "  74608.0684986747)]"
      ]
     },
     "metadata": {},
     "output_type": "display_data"
    }
   ],
   "source": [
    "parameters = {\n",
    "    'scale_sqft_living': [2.7e-5, 2.8e-5, 2.9e-5, 2.95e-5, 3e-5, 3.3e-5],\n",
    "    'scale_grade': [0.015, 0.017, 0.018,  0.019, 0.02, 0.025],\n",
    "    'scale_yr_built': [0],\n",
    "    'n_neighbors': [13, 15, 17, 20],\n",
    "    'weights': ['uniform', 'distance'],\n",
    "    'metric': ['minkowski', 'manhattan', 'chebyshev'],\n",
    "}\n",
    "\n",
    "KNeighborSearch2(parameters)"
   ]
  },
  {
   "cell_type": "code",
   "execution_count": null,
   "metadata": {},
   "outputs": [],
   "source": []
  }
 ],
 "metadata": {
  "kernelspec": {
   "display_name": "Python 3",
   "language": "python",
   "name": "python3"
  },
  "language_info": {
   "codemirror_mode": {
    "name": "ipython",
    "version": 3
   },
   "file_extension": ".py",
   "mimetype": "text/x-python",
   "name": "python",
   "nbconvert_exporter": "python",
   "pygments_lexer": "ipython3",
   "version": "3.6.4"
  },
  "toc": {
   "base_numbering": 1,
   "nav_menu": {},
   "number_sections": true,
   "sideBar": true,
   "skip_h1_title": false,
   "title_cell": "Table of Contents",
   "title_sidebar": "Contents",
   "toc_cell": false,
   "toc_position": {},
   "toc_section_display": true,
   "toc_window_display": true
  }
 },
 "nbformat": 4,
 "nbformat_minor": 2
}
